# Car Prediction



##Importación de datos

import numpy as np
import pandas as pd


df = pd.read_csv('https://raw.githubusercontent.com/JotaLeutgeb/proyectofinalDS1/main/Car_Prediction/car_price_prediction.csv')


## Entendiendo los datos


df.head(10)

Nombres, cantidad y tipos de valores en columnas.


df.info()

df.isna().sum()

Ninguna fila con datos nulos.

for col in df.columns:
    print(f"columna {col} : {df[col].nunique()}")
    print("****"*9)

df['Gear box type'].unique()

## Análisis exploratorio y Limpieza de datos

df.describe()

No se identificaron outliers


###Organización y cambios preliminares en columnas

df.rename(columns={'Prod. year': 'Prod year'}, inplace=True)

df.columns = [col.replace(' ', '_') for col in df.columns]

df.columns.tolist()

***Columnas normalizadas y organizadas ✅***

##Limpieza

###Limpieza general del *DataFrame*

df.duplicated().sum()

df.drop_duplicates(inplace=True)

Filas duplicadas eliminadas ✅

df = df.drop(['ID'],axis=1)

Eliminación de la columna `'ID'`, ya que tenemos una por defecto

### Limpieza `'Levy'`

df['Levy'].value_counts()

df['Levy'].str.contains('-').sum()

df = df[df['Levy'] != '-']
df['Levy'] = df['Levy'].astype('int64')
df['Levy'].sample(20)

Reemplazo de "-" por 0 en `'Levy'` para tener solo ints en la columna.

***Limpieza `'Levy'` ✅***

###Limpieza `'Mileage'`

Eliminación del str 'km' en la columna 'Mileage' para tener únicamente valores de tipo int.

df['Mileage'].str.contains('km').sum()

df['Mileage'] = df['Mileage'].str.replace('km',"")

df['Mileage'] = df['Mileage'].astype('int64')

***Limpieza `Mileage`✅***



###Limpieza `'Engine_volume'`

Borrando "turbo" para tener valores int en la columna 'Engine_volume"

df['Engine_volume'].str.contains('Turbo').sum()

df['Engine_volume'] = df['Engine_volume'].str.replace('Turbo',"")

df['Engine_volume'] = df['Engine_volume'].astype('float64')

df['Engine_volume'].sample(10)

***Limpieza `Engine_Volume` ✅***

### Limpieza `'Airbags'`

Se encontró un error en los airbags, hay veces en la que indica 0 y eso no necesariamente está bien ya que los airbgas fueron reglamentarios a partir de 1998.

---

Aquellos valores que sean 0 a partir de ese año(Fecha en la que se volvieron obligatorios en USA), se reemplazarán por 2, que es el mínimo: (conductor y pasajero).

---

Probablemente queden airbags == 0, pero no serán valores erróneos sino correctos.

df[(df['Airbags'] == 0) & (df['Prod_year'] >= 1998)]['Airbags'].count()

df.loc[(df['Airbags'] == 0) & (df['Prod_year'] >= 1998), 'Airbags'] = 2


df[(df['Airbags'] == 0) & (df['Prod_year'] >= 1998)]['Airbags'].count()

***Limpieza `'Airbags'` ✅***

### Limpieza `'Doors'`

df['Doors'].unique()

Como se puede ver, la columna doors tiene 1 valor numérico, y seguido un mes.

def reemplazar_doors(valor):
  # Hay solo 3 valores en el dataframe: ['04-May', '02-Mar', '>5']
    if valor == '04-May':
        return '4-5'
    elif valor == '02-Mar':
        return '2-3'
    else:
        return valor # Si no aplican los condicionales anteriores, se mantiene el '>5'

df['Doors'] = df['Doors'].astype(str)
df['Doors'] = df['Doors'].apply(reemplazar_doors)
df['Doors']

df['Doors'].unique()

***Limpieza `'Doors'`✅***

###Limpieza `'Price'`

Analizando el precio se pueden ver valores menores a 1000, que parece un número demasiado bajo para el análisis.

df[df['Price'] < 500]

Eliminamos todos los valores <= 500 ya se consideraron como valores erróneos

#df = df.drop(df[df['Price'] < 500].index)
df = df[df['Price'] >= 500]

#Verificación si se eliminó correctamente
df[df['Price'] < 500]['Price'].count()


***Limpieza `'Price'`✅***

## Visualizaciones

###Análisis de datos

- Precio promedio por año
- precio promedio por marca
- Distribució por categoría de auto
- Distribución por gear type
- Distribución leather interior
- Distribución por manufacturador
